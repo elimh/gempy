{
 "cells": [
  {
   "cell_type": "code",
   "execution_count": 1,
   "metadata": {},
   "outputs": [
    {
     "name": "stderr",
     "output_type": "stream",
     "text": [
      "Can not use cuDNN on context None: cannot compile with cuDNN. We got this error:\n",
      "b'/tmp/try_flags_vchrih3v.c:4:10: fatal error: cudnn.h: No such file or directory\\n #include <cudnn.h>\\n          ^~~~~~~~~\\ncompilation terminated.\\n'\n",
      "Mapped name None to device cuda: GeForce RTX 2070 (0000:01:00.0)\n"
     ]
    }
   ],
   "source": [
    "# These two lines are necessary only if GemPy is not installed\n",
    "import sys, os\n",
    "sys.path.append(\"../..\")\n",
    "os.environ[\"THEANO_FLAGS\"] = \"mode=FAST_RUN, device=cuda\"\n",
    "\n",
    "# Importing GemPy\n",
    "import gempy as gp\n",
    "\n",
    "# Embedding matplotlib figures in the notebooks\n",
    "%matplotlib inline\n",
    "\n",
    "# Importing auxiliary libraries\n",
    "import numpy as np\n",
    "import matplotlib.pyplot as plt\n",
    "# sys.path = list(np.insert(sys.path, 0, \"../../../pyvista\"))\n",
    "import pyvista as pv"
   ]
  },
  {
   "cell_type": "raw",
   "metadata": {},
   "source": [
    "%matplotlib qt"
   ]
  },
  {
   "cell_type": "code",
   "execution_count": 2,
   "metadata": {
    "scrolled": true
   },
   "outputs": [
    {
     "name": "stdout",
     "output_type": "stream",
     "text": [
      "Active grids: ['regular']\n",
      "Compiling theano function...\n",
      "Level of Optimization:  fast_run\n",
      "Device:  cuda\n",
      "Precision:  float32\n",
      "Number of faults:  2\n",
      "Compilation Done!\n"
     ]
    },
    {
     "name": "stderr",
     "output_type": "stream",
     "text": [
      "/home/alex/anaconda3/envs/topology/lib/python3.7/site-packages/theano/tensor/slinalg.py:255: LinAlgWarning: Ill-conditioned matrix (rcond=2.46753e-12): result may not be accurate.\n",
      "  rval = scipy.linalg.solve(A, b)\n"
     ]
    },
    {
     "data": {
      "text/plain": [
       "\n",
       "Lithology ids \n",
       "  [7. 7. 7. ... 3. 3. 3.] "
      ]
     },
     "execution_count": 2,
     "metadata": {},
     "output_type": "execute_result"
    }
   ],
   "source": [
    "geo_model = gp.load_model(\n",
    "    'Tutorial_ch1-9b_Fault_relations', \n",
    "    path= '../data/gempy_models', \n",
    "    recompile=False\n",
    ")\n",
    "\n",
    "gp.set_interpolation_data(\n",
    "    geo_model, \n",
    "    output='geology', \n",
    "    compile_theano=True, \n",
    "    theano_optimizer='fast_run', # fast_compile, fast_run\n",
    "    dtype=\"float32\",  # float64 for model stability\n",
    "    verbose=[]\n",
    ")\n",
    "\n",
    "gp.compute_model(geo_model, compute_mesh=True)"
   ]
  },
  {
   "cell_type": "code",
   "execution_count": 3,
   "metadata": {},
   "outputs": [],
   "source": [
    "from gempy.plot import vista\n",
    "from importlib import reload\n",
    "import logging\n",
    "logger = logging.getLogger()\n",
    "logger.setLevel(logging.DEBUG)"
   ]
  },
  {
   "cell_type": "code",
   "execution_count": 4,
   "metadata": {},
   "outputs": [
    {
     "data": {
      "text/html": [
       "<div>\n",
       "<style scoped>\n",
       "    .dataframe tbody tr th:only-of-type {\n",
       "        vertical-align: middle;\n",
       "    }\n",
       "\n",
       "    .dataframe tbody tr th {\n",
       "        vertical-align: top;\n",
       "    }\n",
       "\n",
       "    .dataframe thead th {\n",
       "        text-align: right;\n",
       "    }\n",
       "</style>\n",
       "<table border=\"1\" class=\"dataframe\">\n",
       "  <thead>\n",
       "    <tr style=\"text-align: right;\">\n",
       "      <th></th>\n",
       "      <th>surface</th>\n",
       "      <th>series</th>\n",
       "      <th>order_surfaces</th>\n",
       "      <th>isBasement</th>\n",
       "      <th>color</th>\n",
       "      <th>vertices</th>\n",
       "      <th>edges</th>\n",
       "      <th>id</th>\n",
       "    </tr>\n",
       "  </thead>\n",
       "  <tbody>\n",
       "    <tr>\n",
       "      <th>7</th>\n",
       "      <td>fault2</td>\n",
       "      <td>fault_series2</td>\n",
       "      <td>1</td>\n",
       "      <td>False</td>\n",
       "      <td>#015482</td>\n",
       "      <td>[[354.9399948120117, 0.0, -980.0], [344.933433...</td>\n",
       "      <td>[[2, 1, 0], [3, 1, 2], [0, 5, 4], [0, 4, 2], [...</td>\n",
       "      <td>1</td>\n",
       "    </tr>\n",
       "    <tr>\n",
       "      <th>5</th>\n",
       "      <td>fault1</td>\n",
       "      <td>fault_series1</td>\n",
       "      <td>1</td>\n",
       "      <td>False</td>\n",
       "      <td>#9f0052</td>\n",
       "      <td>[[14.601644277572632, 20.0, -60.0], [20.0, 0.0...</td>\n",
       "      <td>[[2, 1, 0], [0, 1, 3], [2, 5, 4], [2, 0, 5], [...</td>\n",
       "      <td>2</td>\n",
       "    </tr>\n",
       "    <tr>\n",
       "      <th>6</th>\n",
       "      <td>rock4</td>\n",
       "      <td>series1</td>\n",
       "      <td>1</td>\n",
       "      <td>False</td>\n",
       "      <td>#ffbe00</td>\n",
       "      <td>[[0.0, 0.0, -560.0016403198242], [0.0, 20.0, -...</td>\n",
       "      <td>[[2, 1, 0], [3, 1, 2], [3, 4, 1], [5, 4, 3], [...</td>\n",
       "      <td>3</td>\n",
       "    </tr>\n",
       "    <tr>\n",
       "      <th>0</th>\n",
       "      <td>rock3</td>\n",
       "      <td>series1</td>\n",
       "      <td>2</td>\n",
       "      <td>False</td>\n",
       "      <td>#728f02</td>\n",
       "      <td>[[0.0, 0.0, -610.0020217895508], [0.0, 20.0, -...</td>\n",
       "      <td>[[2, 1, 0], [3, 1, 2], [3, 4, 1], [5, 4, 3], [...</td>\n",
       "      <td>4</td>\n",
       "    </tr>\n",
       "    <tr>\n",
       "      <th>3</th>\n",
       "      <td>rock2</td>\n",
       "      <td>series1</td>\n",
       "      <td>3</td>\n",
       "      <td>False</td>\n",
       "      <td>#443988</td>\n",
       "      <td>[[0.0, 0.0, -660.0025939941406], [0.0, 20.0, -...</td>\n",
       "      <td>[[2, 1, 0], [3, 1, 2], [3, 4, 1], [5, 4, 3], [...</td>\n",
       "      <td>5</td>\n",
       "    </tr>\n",
       "    <tr>\n",
       "      <th>1</th>\n",
       "      <td>rock1</td>\n",
       "      <td>series1</td>\n",
       "      <td>4</td>\n",
       "      <td>False</td>\n",
       "      <td>#ff3f20</td>\n",
       "      <td>[[0.0, 0.0, -710.0033187866211], [0.0, 20.0, -...</td>\n",
       "      <td>[[2, 1, 0], [3, 1, 2], [3, 4, 1], [5, 4, 3], [...</td>\n",
       "      <td>6</td>\n",
       "    </tr>\n",
       "    <tr>\n",
       "      <th>4</th>\n",
       "      <td>basement</td>\n",
       "      <td>basement_series</td>\n",
       "      <td>1</td>\n",
       "      <td>True</td>\n",
       "      <td>#325916</td>\n",
       "      <td>NaN</td>\n",
       "      <td>NaN</td>\n",
       "      <td>7</td>\n",
       "    </tr>\n",
       "  </tbody>\n",
       "</table>\n",
       "</div>"
      ],
      "text/plain": [
       "    surface           series  order_surfaces  isBasement    color  \\\n",
       "7    fault2    fault_series2               1       False  #015482   \n",
       "5    fault1    fault_series1               1       False  #9f0052   \n",
       "6     rock4          series1               1       False  #ffbe00   \n",
       "0     rock3          series1               2       False  #728f02   \n",
       "3     rock2          series1               3       False  #443988   \n",
       "1     rock1          series1               4       False  #ff3f20   \n",
       "4  basement  basement_series               1        True  #325916   \n",
       "\n",
       "                                            vertices  \\\n",
       "7  [[354.9399948120117, 0.0, -980.0], [344.933433...   \n",
       "5  [[14.601644277572632, 20.0, -60.0], [20.0, 0.0...   \n",
       "6  [[0.0, 0.0, -560.0016403198242], [0.0, 20.0, -...   \n",
       "0  [[0.0, 0.0, -610.0020217895508], [0.0, 20.0, -...   \n",
       "3  [[0.0, 0.0, -660.0025939941406], [0.0, 20.0, -...   \n",
       "1  [[0.0, 0.0, -710.0033187866211], [0.0, 20.0, -...   \n",
       "4                                                NaN   \n",
       "\n",
       "                                               edges  id  \n",
       "7  [[2, 1, 0], [3, 1, 2], [0, 5, 4], [0, 4, 2], [...   1  \n",
       "5  [[2, 1, 0], [0, 1, 3], [2, 5, 4], [2, 0, 5], [...   2  \n",
       "6  [[2, 1, 0], [3, 1, 2], [3, 4, 1], [5, 4, 3], [...   3  \n",
       "0  [[2, 1, 0], [3, 1, 2], [3, 4, 1], [5, 4, 3], [...   4  \n",
       "3  [[2, 1, 0], [3, 1, 2], [3, 4, 1], [5, 4, 3], [...   5  \n",
       "1  [[2, 1, 0], [3, 1, 2], [3, 4, 1], [5, 4, 3], [...   6  \n",
       "4                                                NaN   7  "
      ]
     },
     "execution_count": 4,
     "metadata": {},
     "output_type": "execute_result"
    }
   ],
   "source": [
    "geo_model.surfaces.df"
   ]
  },
  {
   "cell_type": "code",
   "execution_count": 73,
   "metadata": {},
   "outputs": [
    {
     "name": "stdout",
     "output_type": "stream",
     "text": [
      "(1.0, 0.0, 0.0)\n",
      "(-0.09553716081475572, -0.02832828197865478, -0.6839474577709088)\n",
      "(1.0, 0.0, 0.0)\n",
      "(0.10712827514246809, -0.02832828197865478, -0.6839474577709088)\n"
     ]
    },
    {
     "data": {
      "text/plain": [
       "[(0.7678066735310811, 1.5096288742184405, 0.10078508353611916),\n",
       " (-0.09553716081475572, -0.02832828197865478, -0.6839474577709088),\n",
       " (-0.19124649850221231, -0.35880582128410876, 0.9136099602255218)]"
      ]
     },
     "execution_count": 73,
     "metadata": {},
     "output_type": "execute_result"
    }
   ],
   "source": [
    "p = pv.Plotter(notebook=False)\n",
    "\n",
    "\n",
    "def callback(*args):\n",
    "    for arg in args:\n",
    "        print(arg)\n",
    "    \n",
    "p.add_mesh(\n",
    "    pv.PolyData(\n",
    "        np.random.randn(300).reshape(-1, 3)\n",
    "    )\n",
    ")\n",
    "\n",
    "# p.add_line_widget(\n",
    "#     callback,\n",
    "#     use_vertices=True,\n",
    "#     center=100\n",
    "    \n",
    "# )\n",
    "p.add_plane_widget(\n",
    "    callback, \n",
    "    factor=0.1,\n",
    "\n",
    ")\n",
    "\n",
    "p.show()"
   ]
  },
  {
   "cell_type": "code",
   "execution_count": 17,
   "metadata": {},
   "outputs": [],
   "source": [
    "geo_model.modify_orientations?"
   ]
  },
  {
   "cell_type": "code",
   "execution_count": 24,
   "metadata": {},
   "outputs": [
    {
     "name": "stderr",
     "output_type": "stream",
     "text": [
      "WARNING:root:Encountered issue in callback: 'vtkInteractionWidgetsPython.vtkPlaneWidget' object has no attribute 'WIDGET_INDEX'\n",
      "WARNING:root:Encountered issue in callback: 'vtkInteractionWidgetsPython.vtkPlaneWidget' object has no attribute 'WIDGET_INDEX'\n",
      "WARNING:root:Encountered issue in callback: 'vtkInteractionWidgetsPython.vtkPlaneWidget' object has no attribute 'WIDGET_INDEX'\n",
      "WARNING:root:Encountered issue in callback: 'vtkInteractionWidgetsPython.vtkPlaneWidget' object has no attribute 'WIDGET_INDEX'\n",
      "WARNING:root:Encountered issue in callback: 'vtkInteractionWidgetsPython.vtkPlaneWidget' object has no attribute 'WIDGET_INDEX'\n",
      "WARNING:root:Encountered issue in callback: 'vtkInteractionWidgetsPython.vtkPlaneWidget' object has no attribute 'WIDGET_INDEX'\n",
      "WARNING:root:Encountered issue in callback: 'vtkInteractionWidgetsPython.vtkPlaneWidget' object has no attribute 'WIDGET_INDEX'\n",
      "WARNING:root:Encountered issue in callback: 'vtkInteractionWidgetsPython.vtkPlaneWidget' object has no attribute 'WIDGET_INDEX'\n",
      "WARNING:root:Encountered issue in callback: 'vtkInteractionWidgetsPython.vtkPlaneWidget' object has no attribute 'WIDGET_INDEX'\n",
      "WARNING:root:Encountered issue in callback: 'vtkInteractionWidgetsPython.vtkPlaneWidget' object has no attribute 'WIDGET_INDEX'\n",
      "WARNING:root:Encountered issue in callback: 'vtkInteractionWidgetsPython.vtkPlaneWidget' object has no attribute 'WIDGET_INDEX'\n",
      "WARNING:root:Encountered issue in callback: 'vtkInteractionWidgetsPython.vtkPlaneWidget' object has no attribute 'WIDGET_INDEX'\n",
      "/home/alex/anaconda3/envs/topology/lib/python3.7/site-packages/theano/tensor/slinalg.py:255: LinAlgWarning: Ill-conditioned matrix (rcond=2.46753e-12): result may not be accurate.\n",
      "  rval = scipy.linalg.solve(A, b)\n"
     ]
    },
    {
     "data": {
      "text/plain": [
       "[(3575.6570606696723, 1517.6421097363664, -91.12414129787138),\n",
       " (490.0, 490.0, -510.0),\n",
       " (-0.0778754001258435, -0.1668091246320309, 0.982909018167366)]"
      ]
     },
     "execution_count": 24,
     "metadata": {},
     "output_type": "execute_result"
    }
   ],
   "source": [
    "reload(vista)\n",
    "gpv = vista.Vista(geo_model, plotter_type=\"basic\", **dict(notebook=False))\n",
    "\n",
    "gpv.set_bounds()\n",
    "# gpv.plot_surface_points(\"rock4\")\n",
    "# gpv.plot_surface_points_all()\n",
    "# gpv.plot_surface_points_interactive(\"rock1\", radius=20)\n",
    "# gpv.plot_surface_points_interactive_all(radius=15)\n",
    "# gpv.plot_orientations(\"rock4\")\n",
    "\n",
    "# gpv.plot_surface(\"rock4\")\n",
    "# gpv.plot_surfaces_all()\n",
    "\n",
    "# gpv.plot_orientations_all()\n",
    "\n",
    "# gpv.plot_orientations_interactive(\"rock3\")\n",
    "gpv.plot_surfaces_all()\n",
    "gpv.plot_orientations_interactive_all()\n",
    "gpv._live_updating = True\n",
    "\n",
    "\n",
    "\n",
    "# gpv.plot_structured_grid(\"lith\")\n",
    "# gpv.plot_structured_grqid(\"scalar\")\n",
    "\n",
    "\n",
    "\n",
    "gpv.p.show()"
   ]
  },
  {
   "cell_type": "code",
   "execution_count": 17,
   "metadata": {},
   "outputs": [],
   "source": [
    "pv.Sphere?"
   ]
  },
  {
   "cell_type": "code",
   "execution_count": 43,
   "metadata": {
    "scrolled": true
   },
   "outputs": [
    {
     "data": {
      "text/plain": [
       "True"
      ]
     },
     "execution_count": 43,
     "metadata": {},
     "output_type": "execute_result"
    }
   ],
   "source": [
    "hasattr(actor, \"points\")"
   ]
  },
  {
   "cell_type": "code",
   "execution_count": 14,
   "metadata": {},
   "outputs": [],
   "source": [
    "actor = pv.PolyData(np.ones((3, 3)))"
   ]
  },
  {
   "cell_type": "code",
   "execution_count": 18,
   "metadata": {},
   "outputs": [],
   "source": [
    "actors = [pv.PolyData(np.ones((3, 3))).points.tostring() for i in range(5)]"
   ]
  },
  {
   "cell_type": "code",
   "execution_count": 20,
   "metadata": {},
   "outputs": [
    {
     "data": {
      "text/plain": [
       "True"
      ]
     },
     "execution_count": 20,
     "metadata": {},
     "output_type": "execute_result"
    }
   ],
   "source": [
    "actor.points.tostring() in actors"
   ]
  },
  {
   "cell_type": "code",
   "execution_count": 21,
   "metadata": {},
   "outputs": [
    {
     "data": {
      "text/plain": [
       "b'\\x00\\x00\\x00\\x00\\x00\\x00\\xf0?\\x00\\x00\\x00\\x00\\x00\\x00\\xf0?\\x00\\x00\\x00\\x00\\x00\\x00\\xf0?\\x00\\x00\\x00\\x00\\x00\\x00\\xf0?\\x00\\x00\\x00\\x00\\x00\\x00\\xf0?\\x00\\x00\\x00\\x00\\x00\\x00\\xf0?\\x00\\x00\\x00\\x00\\x00\\x00\\xf0?\\x00\\x00\\x00\\x00\\x00\\x00\\xf0?\\x00\\x00\\x00\\x00\\x00\\x00\\xf0?'"
      ]
     },
     "execution_count": 21,
     "metadata": {},
     "output_type": "execute_result"
    }
   ],
   "source": [
    "actor.points.tostring()"
   ]
  },
  {
   "cell_type": "code",
   "execution_count": null,
   "metadata": {},
   "outputs": [],
   "source": []
  },
  {
   "cell_type": "code",
   "execution_count": 122,
   "metadata": {},
   "outputs": [],
   "source": [
    "actor = pv.PolyData(np.ones((3, 3)))\n",
    "actors = [actor]\n",
    "actors_hash = [hash(actor)]\n"
   ]
  },
  {
   "cell_type": "code",
   "execution_count": 123,
   "metadata": {},
   "outputs": [
    {
     "data": {
      "text/plain": [
       "True"
      ]
     },
     "execution_count": 123,
     "metadata": {},
     "output_type": "execute_result"
    }
   ],
   "source": [
    "actor in actors"
   ]
  },
  {
   "cell_type": "code",
   "execution_count": 124,
   "metadata": {},
   "outputs": [
    {
     "data": {
      "text/plain": [
       "False"
      ]
     },
     "execution_count": 124,
     "metadata": {},
     "output_type": "execute_result"
    }
   ],
   "source": [
    "pv.PolyData(np.ones((3, 3))) in actors"
   ]
  },
  {
   "cell_type": "code",
   "execution_count": 125,
   "metadata": {},
   "outputs": [
    {
     "data": {
      "text/plain": [
       "False"
      ]
     },
     "execution_count": 125,
     "metadata": {},
     "output_type": "execute_result"
    }
   ],
   "source": [
    "hash(pv.PolyData(np.ones((3, 3)))) in actors_hash"
   ]
  },
  {
   "cell_type": "code",
   "execution_count": 126,
   "metadata": {},
   "outputs": [
    {
     "data": {
      "text/plain": [
       "True"
      ]
     },
     "execution_count": 126,
     "metadata": {},
     "output_type": "execute_result"
    }
   ],
   "source": [
    "hash(actor) in actors_hash"
   ]
  },
  {
   "cell_type": "code",
   "execution_count": 85,
   "metadata": {},
   "outputs": [
    {
     "data": {
      "text/plain": [
       "dict"
      ]
     },
     "execution_count": 85,
     "metadata": {},
     "output_type": "execute_result"
    }
   ],
   "source": []
  },
  {
   "cell_type": "code",
   "execution_count": null,
   "metadata": {},
   "outputs": [],
   "source": [
    "import pyvista as pv\n",
    "from nptyping import Array\n",
    "\n",
    "\n",
    "class PyvistaPlotter:\n",
    "    def __init__(self, geo_model, plotter_kwargs={}):\n",
    "        self.geo_model = geo_model\n",
    "        self.p = pv.Plotter(**plotter_kwargs)\n",
    "        self.colors = {\n",
    "            fmt:c for fmt, c in zip(geo_model.surfaces.df.surface.values, \n",
    "                                    geo_model.surfaces.df.color.values)\n",
    "        }\n",
    "        \n",
    "        self._surface_points = False\n",
    "        self._orientations = False\n",
    "        self._surfaces = False\n",
    "        \n",
    "        self.formations = geo_model.surfaces.df.surface[:-1].values\n",
    "    \n",
    "    def add_surface_points(self, fmt:str, mesh_kwargs={}):\n",
    "        i = self.geo_model.surface_points.df.groupby(\"surface\").groups[fmt]\n",
    "        self.p.add_mesh(\n",
    "            pv.PolyData(\n",
    "                self.geo_model.surface_points.df.loc[i][[\"X\", \"Y\", \"Z\"]].values\n",
    "            ),\n",
    "            color=self.colors[fmt],\n",
    "            **mesh_kwargs\n",
    "        )\n",
    "        \n",
    "    def add_surface_points_widget(self, fmt:str):\n",
    "        i = self.geo_model.surface_points.df.groupby(\"surface\").groups[fmt]\n",
    "        \n",
    "        for _, pt in self.geo_model.surface_points.df.loc[i].iterrows():\n",
    "            self.p.add_sphere_widget(\n",
    "                callback,\n",
    "                center=pt[[\"X\", \"Y\", \"Z\"]]\n",
    "            )\n",
    "    \n",
    "    def add_surface_orientations(self, fmt:str, mesh_kwargs={}):\n",
    "        i = self.geo_model.orientations.df.groupby(\"surface\").groups[fmt]\n",
    "        pts = self.geo_model.orientations.df.loc[i][[\"X\", \"Y\", \"Z\"]].values\n",
    "        nrms = self.geo_model.orientations.df.loc[i][[\"G_x\", \"G_y\", \"G_z\"]].values\n",
    "        for pt, nrm in zip(pts, nrms):\n",
    "            self.p.add_mesh(\n",
    "                pv.Line(pointa=pt, pointb=pt+200*nrm),\n",
    "                color=self.colors[fmt],\n",
    "                **mesh_kwargs\n",
    "            )\n",
    "            \n",
    "    def add_surface(self, fmt:str, mesh_kwargs={}):\n",
    "        i = np.where(self.geo_model.surfaces.df.surface == fmt)[0][0] \n",
    "        ver = self.geo_model.solutions.vertices[i]\n",
    "        \n",
    "        sim = self._simplices_to_pv_tri_simplices(\n",
    "            self.geo_model.solutions.edges[i]\n",
    "        )\n",
    "        \n",
    "        self.p.add_mesh(\n",
    "            pv.PolyData(ver, sim),\n",
    "            color=self.colors[fmt],\n",
    "            **mesh_kwargs\n",
    "        )\n",
    "            \n",
    "    def add_surfaces(self, mesh_kwargs={}):\n",
    "        if self._surfaces:\n",
    "            return\n",
    "        vertices = self.geo_model.solutions.vertices\n",
    "        simplices = self.geo_model.solutions.edges\n",
    "        for fmt in geo_model.surfaces.df.surface[:-1].values:\n",
    "            self.add_surface(fmt, mesh_kwargs=mesh_kwargs)\n",
    "        self._surfaces = True\n",
    "        \n",
    "    def add_surfaces_points(self, mesh_kwargs={}):\n",
    "        if self._surface_points:\n",
    "            return\n",
    "        for fmt in self.formations:\n",
    "            self.add_surface_points(fmt, mesh_kwargs=mesh_kwargs)\n",
    "        self._surface_points = True\n",
    "            \n",
    "    def add_surfaces_orientations(self, mesh_kwargs={}):\n",
    "        if self._orientations:\n",
    "            return\n",
    "        for fmt in self.formations:\n",
    "            self.add_surface_orientations(fmt, mesh_kwargs=mesh_kwargs)\n",
    "        self._orientations = True    \n",
    "        \n",
    "    def _simplices_to_pv_tri_simplices(self, sim:Array[int, ..., 3]) -> Array[int, ..., 4]:\n",
    "        \"\"\"Convert triangle simplices (n, 3) to pyvista-compatible\n",
    "        simplices (n, 4).\"\"\"\n",
    "        n_edges = np.ones(sim.shape[0]) * 3\n",
    "        return np.append(n_edges[:, None], sim, axis=1)\n"
   ]
  },
  {
   "cell_type": "code",
   "execution_count": null,
   "metadata": {},
   "outputs": [],
   "source": []
  },
  {
   "cell_type": "code",
   "execution_count": null,
   "metadata": {},
   "outputs": [],
   "source": []
  },
  {
   "cell_type": "code",
   "execution_count": null,
   "metadata": {},
   "outputs": [],
   "source": []
  },
  {
   "cell_type": "code",
   "execution_count": null,
   "metadata": {},
   "outputs": [],
   "source": []
  },
  {
   "cell_type": "code",
   "execution_count": null,
   "metadata": {},
   "outputs": [],
   "source": []
  },
  {
   "cell_type": "code",
   "execution_count": null,
   "metadata": {},
   "outputs": [],
   "source": []
  },
  {
   "cell_type": "code",
   "execution_count": null,
   "metadata": {},
   "outputs": [],
   "source": []
  },
  {
   "cell_type": "code",
   "execution_count": null,
   "metadata": {},
   "outputs": [],
   "source": []
  },
  {
   "cell_type": "markdown",
   "metadata": {},
   "source": [
    "#### Point picking"
   ]
  },
  {
   "cell_type": "code",
   "execution_count": null,
   "metadata": {},
   "outputs": [],
   "source": []
  },
  {
   "cell_type": "code",
   "execution_count": 24,
   "metadata": {},
   "outputs": [
    {
     "data": {
      "text/plain": [
       "True"
      ]
     },
     "execution_count": 24,
     "metadata": {},
     "output_type": "execute_result"
    }
   ],
   "source": [
    "hash(pv.PolyData(np.ones((3,3)))) == hash(pv.PolyData(np.ones((3,3))))"
   ]
  },
  {
   "cell_type": "code",
   "execution_count": 9,
   "metadata": {},
   "outputs": [],
   "source": []
  },
  {
   "cell_type": "code",
   "execution_count": null,
   "metadata": {},
   "outputs": [],
   "source": [
    "def callback(polydata, pid):\n",
    "    print(pid)\n",
    "\n",
    "p.enable_point_picking(callback, use_mesh=True) "
   ]
  },
  {
   "cell_type": "code",
   "execution_count": null,
   "metadata": {},
   "outputs": [],
   "source": []
  },
  {
   "cell_type": "code",
   "execution_count": null,
   "metadata": {},
   "outputs": [],
   "source": []
  },
  {
   "cell_type": "code",
   "execution_count": 1,
   "metadata": {},
   "outputs": [
    {
     "name": "stderr",
     "output_type": "stream",
     "text": [
      "WARNING (theano.tensor.blas): Using NumPy C-API based implementation for BLAS functions.\n"
     ]
    }
   ],
   "source": []
  },
  {
   "cell_type": "code",
   "execution_count": 2,
   "metadata": {},
   "outputs": [
    {
     "name": "stderr",
     "output_type": "stream",
     "text": [
      "C:\\Users\\r02as18\\miniconda3\\envs\\topology\\lib\\site-packages\\theano\\gpuarray\\dnn.py:184: UserWarning: Your cuDNN version is more recent than Theano. If you encounter problems, try updating Theano or downgrading cuDNN to a version >= v5 and <= v7.\n",
      "  warnings.warn(\"Your cuDNN version is more recent than \"\n"
     ]
    },
    {
     "name": "stdout",
     "output_type": "stream",
     "text": [
      "Active grids: ['regular']\n",
      "Compiling theano function...\n",
      "Level of Optimization:  fast_compile\n",
      "Device:  cpu\n",
      "Precision:  float64\n",
      "Number of faults:  2\n",
      "Compilation Done!\n"
     ]
    }
   ],
   "source": []
  },
  {
   "cell_type": "code",
   "execution_count": 7,
   "metadata": {},
   "outputs": [
    {
     "data": {
      "text/plain": [
       "\n",
       "Lithology ids \n",
       "  [7. 7. 7. ... 3. 3. 3.] "
      ]
     },
     "execution_count": 7,
     "metadata": {},
     "output_type": "execute_result"
    }
   ],
   "source": [
    "# gp.plot.plot_section(geo_model, show_data=True)"
   ]
  },
  {
   "cell_type": "code",
   "execution_count": 3,
   "metadata": {},
   "outputs": [],
   "source": [
    "import pyvista as pv\n",
    "from PyQt5 import Qt\n",
    "import sys\n",
    "import numpy as np\n",
    "from nptyping import Array\n",
    "\n",
    "\n",
    "class MainWindow(Qt.QMainWindow):\n",
    "    def __init__(self, geo_model, parent=None, show=True):\n",
    "        Qt.QMainWindow.__init__(self, parent)\n",
    "        self.geo_model = geo_model\n",
    "        \n",
    "        self.colors = self.geo_model.surfaces.df.color.values\n",
    "        \n",
    "        # create the frame\n",
    "        self.frame = Qt.QFrame()\n",
    "        vlayout = Qt.QVBoxLayout()\n",
    "\n",
    "        # add the pyvista interactor object\n",
    "        self.vtk_widget = pv.QtInteractor(self.frame)\n",
    "        vlayout.addWidget(self.vtk_widget)\n",
    "\n",
    "        self.frame.setLayout(vlayout)\n",
    "        self.setCentralWidget(self.frame)\n",
    "\n",
    "        # menu\n",
    "        mainMenu = self.menuBar()\n",
    "        fileMenu = mainMenu.addMenu('File')\n",
    "        exitButton = Qt.QAction('Exit', self)\n",
    "        exitButton.setShortcut('Ctrl+Q')\n",
    "        exitButton.triggered.connect(self.close)\n",
    "        fileMenu.addAction(exitButton)\n",
    "\n",
    "        # allow adding a sphere\n",
    "        meshMenu = mainMenu.addMenu('Plot')\n",
    "        self.add_surfacepoints_action = Qt.QAction('Add Surface Points', self)\n",
    "        self.add_surfacepoints_action.triggered.connect(self.add_surface_points)\n",
    "        meshMenu.addAction(self.add_surfacepoints_action)\n",
    "        \n",
    "        self.add_surfaces_action = Qt.QAction('Add Surfaces', self)\n",
    "        self.add_surfaces_action.triggered.connect(self.add_surfaces)\n",
    "        meshMenu.addAction(self.add_surfaces_action)\n",
    "        \n",
    "        self.vtk_widget.enable_point_picking() \n",
    "\n",
    "        if show:\n",
    "            self.show()\n",
    "        \n",
    "    def add_surface_points(self):\n",
    "        points = pv.PolyData(\n",
    "            self.geo_model.surface_points.df[[\"X\", \"Y\", \"Z\"]].values\n",
    "        )\n",
    "        self.vtk_widget.add_mesh(points)\n",
    "        \n",
    "    def add_surfaces(self):\n",
    "        vertices = self.geo_model.solutions.vertices\n",
    "        simplices = self.geo_model.solutions.edges\n",
    "        \n",
    "        for i, (ver, sim) in enumerate(zip(self.geo_model.solutions.vertices, \n",
    "                            self.geo_model.solutions.edges)):\n",
    "            sim = self._simplices_to_pv_tri_simplices(sim)\n",
    "            \n",
    "            self.vtk_widget.add_mesh(pv.PolyData(ver, sim), color=self.colors[i])\n",
    "            \n",
    "    def _simplices_to_pv_tri_simplices(self, sim:Array[int, ..., 3]) -> Array[int, ..., 4]:\n",
    "        \"\"\"Convert triangle simplices (n, 3) to pyvista-compatible\n",
    "        simplices (n, 4).\"\"\"\n",
    "        n_edges = np.ones(sim.shape[0]) * 3\n",
    "        return np.append(n_edges[:, None], sim, axis=1)\n"
   ]
  },
  {
   "cell_type": "code",
   "execution_count": 6,
   "metadata": {},
   "outputs": [],
   "source": [
    "from PyQt5 import QtCore\n",
    "from PyQt5.QtWidgets import QWidget"
   ]
  },
  {
   "cell_type": "code",
   "execution_count": null,
   "metadata": {},
   "outputs": [],
   "source": [
    "%gui qt\n",
    "\n",
    "app = QtCore.QCoreApplication.instance()\n",
    "if app is None:\n",
    "    app = Qt.QApplication(sys.argv)\n",
    "    \n",
    "w = QWidget()\n",
    "w.setWindowTitle('Simple')\n",
    "w.show()\n",
    "window = MainWindow(geo_model)\n",
    "# sys.exit(app.exec_())\n",
    "app.exec_()"
   ]
  },
  {
   "cell_type": "code",
   "execution_count": null,
   "metadata": {},
   "outputs": [],
   "source": []
  },
  {
   "cell_type": "code",
   "execution_count": 3,
   "metadata": {},
   "outputs": [
    {
     "data": {
      "text/plain": [
       "<module 'gempy.plot.vista' from '../..\\\\gempy\\\\plot\\\\vista.py'>"
      ]
     },
     "execution_count": 3,
     "metadata": {},
     "output_type": "execute_result"
    }
   ],
   "source": [
    "from gempy.plot import vista\n",
    "from importlib import reload\n",
    "reload(vista)"
   ]
  },
  {
   "cell_type": "code",
   "execution_count": 4,
   "metadata": {},
   "outputs": [],
   "source": [
    "import pyvista as pv"
   ]
  },
  {
   "cell_type": "code",
   "execution_count": 1,
   "metadata": {},
   "outputs": [
    {
     "ename": "ModuleNotFoundError",
     "evalue": "No module named 'create_geomodel_gullfaks'",
     "output_type": "error",
     "traceback": [
      "\u001b[1;31m---------------------------------------------------------------------------\u001b[0m",
      "\u001b[1;31mModuleNotFoundError\u001b[0m                       Traceback (most recent call last)",
      "\u001b[1;32m<ipython-input-1-b6942a3df577>\u001b[0m in \u001b[0;36m<module>\u001b[1;34m\u001b[0m\n\u001b[1;32m----> 1\u001b[1;33m \u001b[1;32mfrom\u001b[0m \u001b[0mcreate_geomodel_gullfaks\u001b[0m \u001b[1;32mimport\u001b[0m \u001b[0mcreate_geomodel\u001b[0m\u001b[1;33m\u001b[0m\u001b[1;33m\u001b[0m\u001b[0m\n\u001b[0m",
      "\u001b[1;31mModuleNotFoundError\u001b[0m: No module named 'create_geomodel_gullfaks'"
     ]
    }
   ],
   "source": [
    "from create_geomodel_gullfaks import create_geomodel"
   ]
  },
  {
   "cell_type": "code",
   "execution_count": 5,
   "metadata": {},
   "outputs": [
    {
     "ename": "ValueError",
     "evalue": "The truth value of an array with more than one element is ambiguous. Use a.any() or a.all()",
     "output_type": "error",
     "traceback": [
      "\u001b[1;31m---------------------------------------------------------------------------\u001b[0m",
      "\u001b[1;31mValueError\u001b[0m                                Traceback (most recent call last)",
      "\u001b[1;32m<ipython-input-5-8fa07cff45cb>\u001b[0m in \u001b[0;36m<module>\u001b[1;34m\u001b[0m\n\u001b[1;32m----> 1\u001b[1;33m \u001b[0mgv\u001b[0m \u001b[1;33m=\u001b[0m \u001b[0mvista\u001b[0m\u001b[1;33m.\u001b[0m\u001b[0mVista\u001b[0m\u001b[1;33m(\u001b[0m\u001b[0mgeo_model\u001b[0m\u001b[1;33m,\u001b[0m \u001b[0mnotebook\u001b[0m\u001b[1;33m=\u001b[0m\u001b[1;32mFalse\u001b[0m\u001b[1;33m,\u001b[0m \u001b[0mplotter_type\u001b[0m\u001b[1;33m=\u001b[0m\u001b[1;34m\"background\"\u001b[0m\u001b[1;33m)\u001b[0m\u001b[1;33m\u001b[0m\u001b[1;33m\u001b[0m\u001b[0m\n\u001b[0m",
      "\u001b[1;32m~\\git\\gempy\\gempy\\plot\\vista.py\u001b[0m in \u001b[0;36m__init__\u001b[1;34m(self, model, extent, lith_c, real_time, plotter_type, **kwargs)\u001b[0m\n\u001b[0;32m     82\u001b[0m             \u001b[0mself\u001b[0m\u001b[1;33m.\u001b[0m\u001b[0mp\u001b[0m \u001b[1;33m=\u001b[0m \u001b[0mpv\u001b[0m\u001b[1;33m.\u001b[0m\u001b[0mBackgroundPlotter\u001b[0m\u001b[1;33m(\u001b[0m\u001b[1;33m**\u001b[0m\u001b[0mkwargs\u001b[0m\u001b[1;33m)\u001b[0m\u001b[1;33m\u001b[0m\u001b[1;33m\u001b[0m\u001b[0m\n\u001b[0;32m     83\u001b[0m \u001b[1;33m\u001b[0m\u001b[0m\n\u001b[1;32m---> 84\u001b[1;33m         \u001b[0mself\u001b[0m\u001b[1;33m.\u001b[0m\u001b[0mset_bounds\u001b[0m\u001b[1;33m(\u001b[0m\u001b[1;33m)\u001b[0m\u001b[1;33m\u001b[0m\u001b[1;33m\u001b[0m\u001b[0m\n\u001b[0m\u001b[0;32m     85\u001b[0m     \u001b[1;31m#    self.p.view_isometric(negative=False)\u001b[0m\u001b[1;33m\u001b[0m\u001b[1;33m\u001b[0m\u001b[1;33m\u001b[0m\u001b[0m\n\u001b[0;32m     86\u001b[0m \u001b[1;33m\u001b[0m\u001b[0m\n",
      "\u001b[1;32m~\\git\\gempy\\gempy\\plot\\vista.py\u001b[0m in \u001b[0;36mset_bounds\u001b[1;34m(self, extent, grid, location, **kwargs)\u001b[0m\n\u001b[0;32m     98\u001b[0m         \u001b[1;32mif\u001b[0m \u001b[0mextent\u001b[0m \u001b[1;32mis\u001b[0m \u001b[1;32mNone\u001b[0m\u001b[1;33m:\u001b[0m\u001b[1;33m\u001b[0m\u001b[1;33m\u001b[0m\u001b[0m\n\u001b[0;32m     99\u001b[0m             \u001b[0mextent\u001b[0m \u001b[1;33m=\u001b[0m \u001b[0mself\u001b[0m\u001b[1;33m.\u001b[0m\u001b[0mextent\u001b[0m\u001b[1;33m\u001b[0m\u001b[1;33m\u001b[0m\u001b[0m\n\u001b[1;32m--> 100\u001b[1;33m         \u001b[0mself\u001b[0m\u001b[1;33m.\u001b[0m\u001b[0mp\u001b[0m\u001b[1;33m.\u001b[0m\u001b[0mshow_bounds\u001b[0m\u001b[1;33m(\u001b[0m\u001b[0mbounds\u001b[0m\u001b[1;33m=\u001b[0m\u001b[0mextent\u001b[0m\u001b[1;33m,\u001b[0m  \u001b[0mlocation\u001b[0m\u001b[1;33m=\u001b[0m\u001b[0mlocation\u001b[0m\u001b[1;33m,\u001b[0m \u001b[0mgrid\u001b[0m\u001b[1;33m=\u001b[0m\u001b[0mgrid\u001b[0m\u001b[1;33m,\u001b[0m \u001b[1;33m**\u001b[0m\u001b[0mkwargs\u001b[0m\u001b[1;33m)\u001b[0m\u001b[1;33m\u001b[0m\u001b[1;33m\u001b[0m\u001b[0m\n\u001b[0m\u001b[0;32m    101\u001b[0m \u001b[1;33m\u001b[0m\u001b[0m\n\u001b[0;32m    102\u001b[0m     def plot_structured_grid(self, regular_grid=None, data: Union[dict, gp.Solution, str] = 'Default',\n",
      "\u001b[1;32m~\\miniconda3\\envs\\topology\\lib\\site-packages\\pyvista\\plotting\\plotting.py\u001b[0m in \u001b[0;36mshow_bounds\u001b[1;34m(self, mesh, bounds, show_xaxis, show_yaxis, show_zaxis, show_xlabels, show_ylabels, show_zlabels, italic, bold, shadow, font_size, font_family, color, xlabel, ylabel, zlabel, use_2d, grid, location, ticks, all_edges, corner_factor, fmt, minor_ticks, loc, padding)\u001b[0m\n\u001b[0;32m   1493\u001b[0m         \u001b[0mself\u001b[0m\u001b[1;33m.\u001b[0m\u001b[0m_active_renderer_index\u001b[0m \u001b[1;33m=\u001b[0m \u001b[0mself\u001b[0m\u001b[1;33m.\u001b[0m\u001b[0mloc_to_index\u001b[0m\u001b[1;33m(\u001b[0m\u001b[0mloc\u001b[0m\u001b[1;33m)\u001b[0m\u001b[1;33m\u001b[0m\u001b[1;33m\u001b[0m\u001b[0m\n\u001b[0;32m   1494\u001b[0m         \u001b[0mrenderer\u001b[0m \u001b[1;33m=\u001b[0m \u001b[0mself\u001b[0m\u001b[1;33m.\u001b[0m\u001b[0mrenderers\u001b[0m\u001b[1;33m[\u001b[0m\u001b[0mself\u001b[0m\u001b[1;33m.\u001b[0m\u001b[0m_active_renderer_index\u001b[0m\u001b[1;33m]\u001b[0m\u001b[1;33m\u001b[0m\u001b[1;33m\u001b[0m\u001b[0m\n\u001b[1;32m-> 1495\u001b[1;33m         \u001b[0mrenderer\u001b[0m\u001b[1;33m.\u001b[0m\u001b[0mshow_bounds\u001b[0m\u001b[1;33m(\u001b[0m\u001b[1;33m**\u001b[0m\u001b[0mkwargs\u001b[0m\u001b[1;33m)\u001b[0m\u001b[1;33m\u001b[0m\u001b[1;33m\u001b[0m\u001b[0m\n\u001b[0m\u001b[0;32m   1496\u001b[0m \u001b[1;33m\u001b[0m\u001b[0m\n\u001b[0;32m   1497\u001b[0m     \u001b[1;32mdef\u001b[0m \u001b[0madd_bounds_axes\u001b[0m\u001b[1;33m(\u001b[0m\u001b[0mself\u001b[0m\u001b[1;33m,\u001b[0m \u001b[1;33m*\u001b[0m\u001b[0margs\u001b[0m\u001b[1;33m,\u001b[0m \u001b[1;33m**\u001b[0m\u001b[0mkwargs\u001b[0m\u001b[1;33m)\u001b[0m\u001b[1;33m:\u001b[0m\u001b[1;33m\u001b[0m\u001b[1;33m\u001b[0m\u001b[0m\n",
      "\u001b[1;32m~\\miniconda3\\envs\\topology\\lib\\site-packages\\pyvista\\plotting\\renderer.py\u001b[0m in \u001b[0;36mshow_bounds\u001b[1;34m(self, mesh, bounds, show_xaxis, show_yaxis, show_zaxis, show_xlabels, show_ylabels, show_zlabels, italic, bold, shadow, font_size, font_family, color, xlabel, ylabel, zlabel, use_2d, grid, location, ticks, all_edges, corner_factor, loc, fmt, minor_ticks, padding)\u001b[0m\n\u001b[0;32m    291\u001b[0m \u001b[1;33m\u001b[0m\u001b[0m\n\u001b[0;32m    292\u001b[0m         \u001b[1;31m# Use the bounds of all data in the rendering window\u001b[0m\u001b[1;33m\u001b[0m\u001b[1;33m\u001b[0m\u001b[1;33m\u001b[0m\u001b[0m\n\u001b[1;32m--> 293\u001b[1;33m         \u001b[1;32mif\u001b[0m \u001b[1;32mnot\u001b[0m \u001b[0mmesh\u001b[0m \u001b[1;32mand\u001b[0m \u001b[1;32mnot\u001b[0m \u001b[0mbounds\u001b[0m\u001b[1;33m:\u001b[0m\u001b[1;33m\u001b[0m\u001b[1;33m\u001b[0m\u001b[0m\n\u001b[0m\u001b[0;32m    294\u001b[0m             \u001b[0mbounds\u001b[0m \u001b[1;33m=\u001b[0m \u001b[0mself\u001b[0m\u001b[1;33m.\u001b[0m\u001b[0mbounds\u001b[0m\u001b[1;33m\u001b[0m\u001b[1;33m\u001b[0m\u001b[0m\n\u001b[0;32m    295\u001b[0m \u001b[1;33m\u001b[0m\u001b[0m\n",
      "\u001b[1;31mValueError\u001b[0m: The truth value of an array with more than one element is ambiguous. Use a.any() or a.all()"
     ]
    }
   ],
   "source": [
    "gv = vista.Vista(geo_model, notebook=False, plotter_type=\"background\")"
   ]
  },
  {
   "cell_type": "code",
   "execution_count": 40,
   "metadata": {},
   "outputs": [
    {
     "data": {
      "text/html": [
       "<div>\n",
       "<style scoped>\n",
       "    .dataframe tbody tr th:only-of-type {\n",
       "        vertical-align: middle;\n",
       "    }\n",
       "\n",
       "    .dataframe tbody tr th {\n",
       "        vertical-align: top;\n",
       "    }\n",
       "\n",
       "    .dataframe thead th {\n",
       "        text-align: right;\n",
       "    }\n",
       "</style>\n",
       "<table border=\"1\" class=\"dataframe\">\n",
       "  <thead>\n",
       "    <tr style=\"text-align: right;\">\n",
       "      <th></th>\n",
       "      <th>val</th>\n",
       "    </tr>\n",
       "  </thead>\n",
       "  <tbody>\n",
       "    <tr>\n",
       "      <th>7</th>\n",
       "      <td>PolyData (0x23e0d48e468)\\n  N Cells:\\t7154\\n  ...</td>\n",
       "    </tr>\n",
       "    <tr>\n",
       "      <th>5</th>\n",
       "      <td>PolyData (0x23e0d48e6a8)\\n  N Cells:\\t12152\\n ...</td>\n",
       "    </tr>\n",
       "    <tr>\n",
       "      <th>6</th>\n",
       "      <td>PolyData (0x23e0d48eb28)\\n  N Cells:\\t5824\\n  ...</td>\n",
       "    </tr>\n",
       "    <tr>\n",
       "      <th>0</th>\n",
       "      <td>PolyData (0x23e0d48ea08)\\n  N Cells:\\t5684\\n  ...</td>\n",
       "    </tr>\n",
       "    <tr>\n",
       "      <th>3</th>\n",
       "      <td>PolyData (0x23e0d3b7a68)\\n  N Cells:\\t5770\\n  ...</td>\n",
       "    </tr>\n",
       "    <tr>\n",
       "      <th>1</th>\n",
       "      <td>PolyData (0x23e0d3b7a08)\\n  N Cells:\\t5684\\n  ...</td>\n",
       "    </tr>\n",
       "  </tbody>\n",
       "</table>\n",
       "</div>"
      ],
      "text/plain": [
       "                                                 val\n",
       "7  PolyData (0x23e0d48e468)\\n  N Cells:\\t7154\\n  ...\n",
       "5  PolyData (0x23e0d48e6a8)\\n  N Cells:\\t12152\\n ...\n",
       "6  PolyData (0x23e0d48eb28)\\n  N Cells:\\t5824\\n  ...\n",
       "0  PolyData (0x23e0d48ea08)\\n  N Cells:\\t5684\\n  ...\n",
       "3  PolyData (0x23e0d3b7a68)\\n  N Cells:\\t5770\\n  ...\n",
       "1  PolyData (0x23e0d3b7a08)\\n  N Cells:\\t5684\\n  ..."
      ]
     },
     "execution_count": 40,
     "metadata": {},
     "output_type": "execute_result"
    }
   ],
   "source": [
    "gv.plot_surfaces()"
   ]
  },
  {
   "cell_type": "code",
   "execution_count": null,
   "metadata": {},
   "outputs": [],
   "source": []
  },
  {
   "cell_type": "code",
   "execution_count": 115,
   "metadata": {},
   "outputs": [],
   "source": [
    "class Vista2:\n",
    "    def __init__(self, geo_model, **kwargs):\n",
    "        self.geo_model = geo_model\n",
    "        self.p = pv.BackgroundPlotter(**kwargs)\n",
    "        self.entities = []\n",
    "        \n",
    "    def plot_surfaces(self):\n",
    "        for idx, val in self.geo_model.surfaces.df.dropna().iterrows():\n",
    "            if idx in self.entities:\n",
    "                continue\n",
    "                \n",
    "            surf = pv.PolyData(\n",
    "                val.vertices, \n",
    "                np.insert(val['edges'], 0, 3, axis=1).ravel()\n",
    "            )\n",
    "            self.p.add_mesh(surf, color=val['color'])\n",
    "            self.entities.append(idx)\n",
    "            \n",
    "\n",
    "gv2 = Vista2(geo_model)"
   ]
  },
  {
   "cell_type": "code",
   "execution_count": 116,
   "metadata": {},
   "outputs": [],
   "source": [
    "gv2.plot_surfaces()"
   ]
  },
  {
   "cell_type": "code",
   "execution_count": null,
   "metadata": {},
   "outputs": [],
   "source": []
  },
  {
   "cell_type": "code",
   "execution_count": null,
   "metadata": {},
   "outputs": [],
   "source": []
  },
  {
   "cell_type": "code",
   "execution_count": null,
   "metadata": {},
   "outputs": [],
   "source": []
  },
  {
   "cell_type": "code",
   "execution_count": null,
   "metadata": {},
   "outputs": [],
   "source": []
  }
 ],
 "metadata": {
  "kernelspec": {
   "display_name": "Python [conda env:topology]",
   "language": "python",
   "name": "conda-env-topology-py"
  },
  "language_info": {
   "codemirror_mode": {
    "name": "ipython",
    "version": 3
   },
   "file_extension": ".py",
   "mimetype": "text/x-python",
   "name": "python",
   "nbconvert_exporter": "python",
   "pygments_lexer": "ipython3",
   "version": "3.7.5"
  }
 },
 "nbformat": 4,
 "nbformat_minor": 2
}
