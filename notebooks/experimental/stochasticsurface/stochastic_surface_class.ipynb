{
 "cells": [
  {
   "cell_type": "code",
   "execution_count": 1,
   "metadata": {},
   "outputs": [
    {
     "name": "stderr",
     "output_type": "stream",
     "text": [
      "WARNING (theano.tensor.blas): Using NumPy C-API based implementation for BLAS functions.\n"
     ]
    }
   ],
   "source": [
    "# These two lines are necessary only if GemPy is not installed\n",
    "import sys, os\n",
    "sys.path.append(\"../../..\")\n",
    "\n",
    "# Importing GemPy\n",
    "import gempy as gp\n",
    "\n",
    "# Embedding matplotlib figures in the notebooks\n",
    "%matplotlib inline\n",
    "\n",
    "# Importing auxiliary libraries\n",
    "import numpy as np\n",
    "import matplotlib.pyplot as plt\n",
    "\n",
    "from typing import Tuple\n",
    "import pandas as pd"
   ]
  },
  {
   "cell_type": "code",
   "execution_count": 2,
   "metadata": {},
   "outputs": [],
   "source": [
    "def generate(n_interfaces: int, seed=42) -> Tuple[pd.DataFrame, pd.DataFrame]:\n",
    "    surface_points = pd.DataFrame()\n",
    "    orientations = pd.DataFrame()\n",
    "    \n",
    "    for n in range(n_interfaces):\n",
    "        x = np.random.rand(15) * 3\n",
    "        y = np.random.rand(15)\n",
    "        \n",
    "        def func(x, y):\n",
    "            return np.sin(x) + np.cos(y)\n",
    "        \n",
    "        z = func(x, y) + n\n",
    "        \n",
    "        surfpts = pd.DataFrame({\"X\": x, \"Y\": y, \"Z\": z})\n",
    "        surfpts[\"formation\"] = \"Interface {}\".format(n + 1)\n",
    "        surface_points = surface_points.append(surfpts)\n",
    "        \n",
    "        orientpts = pd.DataFrame(\n",
    "            {\"X\": [np.mean(surfpts.X)], \n",
    "             \"Y\": [np.mean(surfpts.Y)], \n",
    "             \"Z\": [np.mean(surfpts.Z)], \n",
    "             \"azimuth\": [90], \"dip\": [3], \n",
    "             \"polarity\": [1], \"formation\": [\"Interface {}\".format(n + 1)]})\n",
    "        orientations = orientations.append(orientpts)\n",
    "    return surface_points, orientations\n",
    "    \n",
    "surface_points, orientations = generate(3, seed=41)"
   ]
  },
  {
   "cell_type": "code",
   "execution_count": 3,
   "metadata": {},
   "outputs": [],
   "source": [
    "surface_points.to_csv(\"surfpts.csv\", index=False)\n",
    "orientations.to_csv(\"orientpts.csv\", index=False)"
   ]
  },
  {
   "cell_type": "raw",
   "metadata": {},
   "source": [
    "np.random.seed(42)\n",
    "x = np.random.rand(30) * 3\n",
    "y = np.random.rand(30)\n",
    "\n",
    "def func(x, y):\n",
    "    return np.sin(x) + np.cos(y)\n",
    "\n",
    "z = func(x, y)\n",
    "\n",
    "\n",
    "\n",
    "surfpts = pd.DataFrame({\"X\": x, \"Y\": y, \"Z\": z})\n",
    "surfpts[\"formation\"] = \"Interface 1\"\n",
    "surfpts.to_csv(\"surfpts.csv\", index=False)\n",
    "\n",
    "orientpts = pd.DataFrame({\"X\": [1.5], \"Y\": [0.5], \"Z\": [1.7], \"azimuth\": [90], \"dip\": [3], \"polarity\": [1], \"formation\": [\"Interface 1\"]})\n",
    "orientpts.to_csv(\"orientpts.csv\", index=False)"
   ]
  },
  {
   "cell_type": "raw",
   "metadata": {},
   "source": [
    "import ipyvolume as ipv\n",
    "ipv.figure()\n",
    "\n",
    "ipv.scatter(x, y, z)\n",
    "ipv.show()"
   ]
  },
  {
   "cell_type": "code",
   "execution_count": 4,
   "metadata": {},
   "outputs": [
    {
     "data": {
      "text/plain": [
       "StochSurfTesting  2019-08-15 13:39"
      ]
     },
     "execution_count": 4,
     "metadata": {},
     "output_type": "execute_result"
    }
   ],
   "source": [
    "geo_model = gp.create_model('StochSurfTesting')\n",
    "gp.init_data(geo_model, [surface_points.min().X * 0.95, surface_points.max().X * 1.05, \n",
    "                         surface_points.min().Y * 0.95, surface_points.max().Y * 1.05, \n",
    "                         surface_points.min().Z * 0.2, surface_points.max().Z * 1.2], \n",
    "             [50,50,50], path_i=\"surfpts.csv\", path_o=\"orientpts.csv\") "
   ]
  },
  {
   "cell_type": "code",
   "execution_count": 5,
   "metadata": {},
   "outputs": [
    {
     "data": {
      "text/html": [
       "<style  type=\"text/css\" >\n",
       "    #T_b33c5fac_bf59_11e9_88d5_d46d6d96cefarow0_col4 {\n",
       "            background-color:  #015482;\n",
       "        }    #T_b33c5fac_bf59_11e9_88d5_d46d6d96cefarow1_col4 {\n",
       "            background-color:  #9f0052;\n",
       "        }    #T_b33c5fac_bf59_11e9_88d5_d46d6d96cefarow2_col4 {\n",
       "            background-color:  #ffbe00;\n",
       "        }    #T_b33c5fac_bf59_11e9_88d5_d46d6d96cefarow3_col4 {\n",
       "            background-color:  #728f02;\n",
       "        }</style><table id=\"T_b33c5fac_bf59_11e9_88d5_d46d6d96cefa\" ><thead>    <tr>        <th class=\"blank level0\" ></th>        <th class=\"col_heading level0 col0\" >surface</th>        <th class=\"col_heading level0 col1\" >series</th>        <th class=\"col_heading level0 col2\" >order_surfaces</th>        <th class=\"col_heading level0 col3\" >isBasement</th>        <th class=\"col_heading level0 col4\" >color</th>        <th class=\"col_heading level0 col5\" >id</th>    </tr></thead><tbody>\n",
       "                <tr>\n",
       "                        <th id=\"T_b33c5fac_bf59_11e9_88d5_d46d6d96cefalevel0_row0\" class=\"row_heading level0 row0\" >0</th>\n",
       "                        <td id=\"T_b33c5fac_bf59_11e9_88d5_d46d6d96cefarow0_col0\" class=\"data row0 col0\" >Interface 1</td>\n",
       "                        <td id=\"T_b33c5fac_bf59_11e9_88d5_d46d6d96cefarow0_col1\" class=\"data row0 col1\" >Default series</td>\n",
       "                        <td id=\"T_b33c5fac_bf59_11e9_88d5_d46d6d96cefarow0_col2\" class=\"data row0 col2\" >1</td>\n",
       "                        <td id=\"T_b33c5fac_bf59_11e9_88d5_d46d6d96cefarow0_col3\" class=\"data row0 col3\" >False</td>\n",
       "                        <td id=\"T_b33c5fac_bf59_11e9_88d5_d46d6d96cefarow0_col4\" class=\"data row0 col4\" >#015482</td>\n",
       "                        <td id=\"T_b33c5fac_bf59_11e9_88d5_d46d6d96cefarow0_col5\" class=\"data row0 col5\" >1</td>\n",
       "            </tr>\n",
       "            <tr>\n",
       "                        <th id=\"T_b33c5fac_bf59_11e9_88d5_d46d6d96cefalevel0_row1\" class=\"row_heading level0 row1\" >1</th>\n",
       "                        <td id=\"T_b33c5fac_bf59_11e9_88d5_d46d6d96cefarow1_col0\" class=\"data row1 col0\" >Interface 2</td>\n",
       "                        <td id=\"T_b33c5fac_bf59_11e9_88d5_d46d6d96cefarow1_col1\" class=\"data row1 col1\" >Default series</td>\n",
       "                        <td id=\"T_b33c5fac_bf59_11e9_88d5_d46d6d96cefarow1_col2\" class=\"data row1 col2\" >2</td>\n",
       "                        <td id=\"T_b33c5fac_bf59_11e9_88d5_d46d6d96cefarow1_col3\" class=\"data row1 col3\" >False</td>\n",
       "                        <td id=\"T_b33c5fac_bf59_11e9_88d5_d46d6d96cefarow1_col4\" class=\"data row1 col4\" >#9f0052</td>\n",
       "                        <td id=\"T_b33c5fac_bf59_11e9_88d5_d46d6d96cefarow1_col5\" class=\"data row1 col5\" >2</td>\n",
       "            </tr>\n",
       "            <tr>\n",
       "                        <th id=\"T_b33c5fac_bf59_11e9_88d5_d46d6d96cefalevel0_row2\" class=\"row_heading level0 row2\" >2</th>\n",
       "                        <td id=\"T_b33c5fac_bf59_11e9_88d5_d46d6d96cefarow2_col0\" class=\"data row2 col0\" >Interface 3</td>\n",
       "                        <td id=\"T_b33c5fac_bf59_11e9_88d5_d46d6d96cefarow2_col1\" class=\"data row2 col1\" >Default series</td>\n",
       "                        <td id=\"T_b33c5fac_bf59_11e9_88d5_d46d6d96cefarow2_col2\" class=\"data row2 col2\" >3</td>\n",
       "                        <td id=\"T_b33c5fac_bf59_11e9_88d5_d46d6d96cefarow2_col3\" class=\"data row2 col3\" >False</td>\n",
       "                        <td id=\"T_b33c5fac_bf59_11e9_88d5_d46d6d96cefarow2_col4\" class=\"data row2 col4\" >#ffbe00</td>\n",
       "                        <td id=\"T_b33c5fac_bf59_11e9_88d5_d46d6d96cefarow2_col5\" class=\"data row2 col5\" >3</td>\n",
       "            </tr>\n",
       "            <tr>\n",
       "                        <th id=\"T_b33c5fac_bf59_11e9_88d5_d46d6d96cefalevel0_row3\" class=\"row_heading level0 row3\" >3</th>\n",
       "                        <td id=\"T_b33c5fac_bf59_11e9_88d5_d46d6d96cefarow3_col0\" class=\"data row3 col0\" >basement</td>\n",
       "                        <td id=\"T_b33c5fac_bf59_11e9_88d5_d46d6d96cefarow3_col1\" class=\"data row3 col1\" >Basement</td>\n",
       "                        <td id=\"T_b33c5fac_bf59_11e9_88d5_d46d6d96cefarow3_col2\" class=\"data row3 col2\" >1</td>\n",
       "                        <td id=\"T_b33c5fac_bf59_11e9_88d5_d46d6d96cefarow3_col3\" class=\"data row3 col3\" >True</td>\n",
       "                        <td id=\"T_b33c5fac_bf59_11e9_88d5_d46d6d96cefarow3_col4\" class=\"data row3 col4\" >#728f02</td>\n",
       "                        <td id=\"T_b33c5fac_bf59_11e9_88d5_d46d6d96cefarow3_col5\" class=\"data row3 col5\" >4</td>\n",
       "            </tr>\n",
       "    </tbody></table>"
      ],
      "text/plain": [
       "       surface          series  order_surfaces  isBasement    color vertices edges  id\n",
       "0  Interface 1  Default series               1       False  #015482      NaN   NaN   1\n",
       "1  Interface 2  Default series               2       False  #9f0052      NaN   NaN   2\n",
       "2  Interface 3  Default series               3       False  #ffbe00      NaN   NaN   3\n",
       "3     basement        Basement               1        True  #728f02      NaN   NaN   4"
      ]
     },
     "execution_count": 5,
     "metadata": {},
     "output_type": "execute_result"
    }
   ],
   "source": [
    "gp.map_series_to_surfaces(geo_model, \n",
    "                            {\"Default series\": [\"Interface {}\".format(n + 1) for n in range(3)]})"
   ]
  },
  {
   "cell_type": "code",
   "execution_count": 6,
   "metadata": {},
   "outputs": [
    {
     "data": {
      "text/plain": [
       "<gempy.plot.visualization_2d.PlotData2D at 0x2b699714e48>"
      ]
     },
     "execution_count": 6,
     "metadata": {},
     "output_type": "execute_result"
    },
    {
     "data": {
      "image/png": "[encoded data removed]",
      "text/plain": [
       "<Figure size 241.689x360 with 1 Axes>"
      ]
     },
     "metadata": {},
     "output_type": "display_data"
    }
   ],
   "source": [
    "gp.plot.plot_data(geo_model)"
   ]
  },
  {
   "cell_type": "code",
   "execution_count": 7,
   "metadata": {},
   "outputs": [
    {
     "name": "stdout",
     "output_type": "stream",
     "text": [
      "Compiling theano function...\n",
      "Compilation Done!\n"
     ]
    },
    {
     "data": {
      "text/plain": [
       "<gempy.core.interpolator.InterpolatorModel at 0x2b699660f98>"
      ]
     },
     "execution_count": 7,
     "metadata": {},
     "output_type": "execute_result"
    }
   ],
   "source": [
    "gp.set_interpolation_data(\n",
    "    geo_model, output='geology', compile_theano=True, theano_optimizer='fast_compile'\n",
    ")"
   ]
  },
  {
   "cell_type": "code",
   "execution_count": 8,
   "metadata": {},
   "outputs": [],
   "source": [
    "sol = gp.compute_model(geo_model, compute_mesh=False)"
   ]
  },
  {
   "cell_type": "code",
   "execution_count": 9,
   "metadata": {},
   "outputs": [
    {
     "data": {
      "text/plain": [
       "<gempy.plot.visualization_2d.PlotData2D at 0x2b69e204dd8>"
      ]
     },
     "execution_count": 9,
     "metadata": {},
     "output_type": "execute_result"
    },
    {
     "data": {
      "image/png": "[encoded data removed]",
      "text/plain": [
       "<Figure size 748.8x514.8 with 1 Axes>"
      ]
     },
     "metadata": {},
     "output_type": "display_data"
    }
   ],
   "source": [
    "gp.plot.plot_section(geo_model, 24)"
   ]
  },
  {
   "cell_type": "raw",
   "metadata": {},
   "source": [
    "gp.plot.plot_surfaces_3d_ipv(geo_model)"
   ]
  },
  {
   "cell_type": "code",
   "execution_count": 12,
   "metadata": {},
   "outputs": [
    {
     "name": "stdout",
     "output_type": "stream",
     "text": [
      "Warning: No Cython functions imported\n"
     ]
    }
   ],
   "source": [
    "from gempy.utils import stochastic_surface as ss"
   ]
  },
  {
   "cell_type": "code",
   "execution_count": 29,
   "metadata": {},
   "outputs": [],
   "source": [
    "surfaces = [\"Interface {}\".format(n + 1) for n in range(3)]\n",
    "\n",
    "stochastic_surfaces = []\n",
    "for surface in surfaces:\n",
    "    ssurf = ss.StochasticSurfaceScipy(geo_model, surface)\n",
    "    ssurf.parametrize_surfpts_single(0.15)\n",
    "    stochastic_surfaces.append(ssurf)\n",
    "    \n",
    "smod = ss.StochasticModel(geo_model, stochastic_surfaces)"
   ]
  },
  {
   "cell_type": "code",
   "execution_count": 30,
   "metadata": {},
   "outputs": [],
   "source": [
    "smod.sample()"
   ]
  },
  {
   "cell_type": "code",
   "execution_count": 31,
   "metadata": {},
   "outputs": [],
   "source": [
    "smod.modify()"
   ]
  },
  {
   "cell_type": "code",
   "execution_count": 32,
   "metadata": {},
   "outputs": [
    {
     "name": "stderr",
     "output_type": "stream",
     "text": [
      "../../..\\gempy\\core\\solution.py:253: UserWarning: Surfaces not computed due to: marching_cubes_lewiner() got an unexpected keyword argument 'mask'\n",
      "  warnings.warn('Surfaces not computed due to: ' + str(e))\n",
      "../../..\\gempy\\core\\solution.py:253: UserWarning: Surfaces not computed due to: marching_cubes_lewiner() got an unexpected keyword argument 'mask'\n",
      "  warnings.warn('Surfaces not computed due to: ' + str(e))\n",
      "../../..\\gempy\\core\\solution.py:253: UserWarning: Surfaces not computed due to: marching_cubes_lewiner() got an unexpected keyword argument 'mask'\n",
      "  warnings.warn('Surfaces not computed due to: ' + str(e))\n"
     ]
    }
   ],
   "source": [
    "sol = gp.compute_model(geo_model, compute_mesh=True)\n",
    "# gp.plot.plot_surfaces_3d_ipv(geo_model)"
   ]
  },
  {
   "cell_type": "code",
   "execution_count": 33,
   "metadata": {},
   "outputs": [
    {
     "data": {
      "text/plain": [
       "<gempy.plot.visualization_2d.PlotData2D at 0x24b81998da0>"
      ]
     },
     "execution_count": 33,
     "metadata": {},
     "output_type": "execute_result"
    },
    {
     "data": {
      "image/png": "[encoded data removed]",
      "text/plain": [
       "<Figure size 748.8x514.8 with 1 Axes>"
      ]
     },
     "metadata": {},
     "output_type": "display_data"
    }
   ],
   "source": [
    "gp.plot.plot_section(geo_model, 24)"
   ]
  },
  {
   "cell_type": "code",
   "execution_count": null,
   "metadata": {},
   "outputs": [],
   "source": []
  },
  {
   "cell_type": "code",
   "execution_count": null,
   "metadata": {},
   "outputs": [],
   "source": []
  },
  {
   "cell_type": "code",
   "execution_count": null,
   "metadata": {},
   "outputs": [],
   "source": []
  }
 ],
 "metadata": {
  "kernelspec": {
   "display_name": "Python [conda env:gempy]",
   "language": "python",
   "name": "conda-env-gempy-py"
  },
  "language_info": {
   "codemirror_mode": {
    "name": "ipython",
    "version": 3
   },
   "file_extension": ".py",
   "mimetype": "text/x-python",
   "name": "python",
   "nbconvert_exporter": "python",
   "pygments_lexer": "ipython3",
   "version": "3.7.2"
  }
 },
 "nbformat": 4,
 "nbformat_minor": 2
}
